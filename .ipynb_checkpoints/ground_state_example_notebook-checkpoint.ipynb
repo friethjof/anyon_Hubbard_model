{
 "cells": [
  {
   "cell_type": "markdown",
   "metadata": {},
   "source": [
    "In this notebook the functionality of the program should be demonstrated."
   ]
  },
  {
   "cell_type": "code",
   "execution_count": 6,
   "metadata": {},
   "outputs": [],
   "source": [
    "import numpy as np\n",
    "from hamiltonian.anyon_hubbard_system import AnyonHubbardHamiltonian"
   ]
  },
  {
   "cell_type": "code",
   "execution_count": 11,
   "metadata": {},
   "outputs": [],
   "source": [
    "ahm_class = AnyonHubbardHamiltonian(\n",
    "    bc = 'open',       # boundary conditions\n",
    "    L = 6,             # number of lattice sites\n",
    "    N = 2,             # number of particles\n",
    "    J = 1.0,           # hopping term\n",
    "    U = 1.0,           # interaction term\n",
    "    theta = 0.5*np.pi,       # statistical phase\n",
    "    bool_save = False  # store results\n",
    ")"
   ]
  },
  {
   "cell_type": "code",
   "execution_count": 4,
   "metadata": {},
   "outputs": [
    {
     "data": {
      "text/plain": [
       "array([-3.43379733, -2.81897092, -2.31984215, -1.99666469, -1.4807297 ,\n",
       "       -1.10177761, -0.73183603, -0.59556594, -0.31822279,  0.14130315,\n",
       "        0.14318346,  0.78204222,  1.        ,  1.        ,  1.41057204,\n",
       "        1.60820114,  2.11557623,  2.50158127,  2.81602951,  3.4016802 ,\n",
       "        3.87723793])"
      ]
     },
     "execution_count": 4,
     "metadata": {},
     "output_type": "execute_result"
    }
   ],
   "source": [
    "ahm_class.evals()"
   ]
  },
  {
   "cell_type": "code",
   "execution_count": 12,
   "metadata": {},
   "outputs": [
    {
     "data": {
      "image/png": "[encoded data removed]",
      "text/plain": [
       "<Figure size 432x288 with 1 Axes>"
      ]
     },
     "metadata": {
      "needs_background": "light"
     },
     "output_type": "display_data"
    }
   ],
   "source": [
    "ahm_class.plot.one_body_density(bool_save=False)"
   ]
  },
  {
   "cell_type": "code",
   "execution_count": null,
   "metadata": {},
   "outputs": [],
   "source": []
  }
 ],
 "metadata": {
  "kernelspec": {
   "display_name": "Python 3",
   "language": "python",
   "name": "python3"
  },
  "language_info": {
   "codemirror_mode": {
    "name": "ipython",
    "version": 3
   },
   "file_extension": ".py",
   "mimetype": "text/x-python",
   "name": "python",
   "nbconvert_exporter": "python",
   "pygments_lexer": "ipython3",
   "version": "3.8.5"
  }
 },
 "nbformat": 4,
 "nbformat_minor": 4
}
