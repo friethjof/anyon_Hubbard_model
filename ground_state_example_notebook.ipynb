{
 "cells": [
  {
   "cell_type": "markdown",
   "metadata": {},
   "source": [
    "In this notebook the functionality of the program should be demonstrated."
   ]
  },
  {
   "cell_type": "code",
   "execution_count": 7,
   "metadata": {},
   "outputs": [],
   "source": [
    "from hamiltonian.anyon_hubbard_system import AnyonHubbardHamiltonian"
   ]
  },
  {
   "cell_type": "code",
   "execution_count": 8,
   "metadata": {},
   "outputs": [],
   "source": [
    "ahm_class = AnyonHubbardHamiltonian(\n",
    "    bc = 'open',       # boundary conditions\n",
    "    L = 6,             # number of lattice sites\n",
    "    N = 2,             # number of particles\n",
    "    J = 1.0,           # hopping term\n",
    "    U = 1.0,           # interaction term\n",
    "    theta = 0.0,       # statistical phase\n",
    "    bool_save = False  # store results\n",
    ")"
   ]
  },
  {
   "cell_type": "code",
   "execution_count": 9,
   "metadata": {},
   "outputs": [
    {
     "data": {
      "text/plain": [
       "array([-3.43701514, -2.81927164, -2.32174571, -1.9952598 , -1.47800164,\n",
       "       -1.09951677, -0.73255068, -0.58819899, -0.31084662,  0.13555714,\n",
       "        0.13938417,  0.78009234,  1.        ,  1.        ,  1.40703393,\n",
       "        1.60819847,  2.11106753,  2.50414048,  2.81334106,  3.40258275,\n",
       "        3.88100913])"
      ]
     },
     "execution_count": 9,
     "metadata": {},
     "output_type": "execute_result"
    }
   ],
   "source": [
    "ahm_class.evals()"
   ]
  },
  {
   "cell_type": "code",
   "execution_count": null,
   "metadata": {},
   "outputs": [],
   "source": []
  }
 ],
 "metadata": {
  "kernelspec": {
   "display_name": "Python 3",
   "language": "python",
   "name": "python3"
  },
  "language_info": {
   "codemirror_mode": {
    "name": "ipython",
    "version": 3
   },
   "file_extension": ".py",
   "mimetype": "text/x-python",
   "name": "python",
   "nbconvert_exporter": "python",
   "pygments_lexer": "ipython3",
   "version": "3.8.5"
  }
 },
 "nbformat": 4,
 "nbformat_minor": 4
}
